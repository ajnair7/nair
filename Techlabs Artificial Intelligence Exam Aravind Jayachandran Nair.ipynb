{
 "cells": [
  {
   "cell_type": "markdown",
   "metadata": {},
   "source": [
    "<img src=\"TechLabs.png\">"
   ]
  },
  {
   "cell_type": "markdown",
   "metadata": {},
   "source": [
    "<h2>Please enter your full name here: Aravind Jayachandran Nair</h2>"
   ]
  },
  {
   "cell_type": "markdown",
   "metadata": {},
   "source": [
    "\n",
    "<p> This exam will test your knowledge in Artificial Intelligence. </p>\n",
    "<p> We will test the following: </p>\n",
    "\n",
    "- Logistic Regressions\n",
    "- Neural Networks\n",
    "- Monte Carlo Simulation"
   ]
  },
  {
   "cell_type": "markdown",
   "metadata": {},
   "source": [
    "# Question 1:\n",
    "Below is the code to import a standard dataset with breast cancer.\n",
    "When you run the cell, you will have it stored as the object \"data\",\n",
    "and the description of the dataset is printed out for you.\n",
    "\n",
    "### Your task is to create two models for classifying the diagnosis, and compare the accuracy metrics for the two:\n",
    "### 1. a) Logistic Regression: \n",
    "\"sklearn.linear_model\" offers good logit classifiers. Because the dataset is fairly small (~500 rows), we suggest that you use the \"liblinear\" solver for fitting the logit classifier.\n",
    "\n",
    "Split the dataset into a test and training (30% test / 70% training) dataset and train the model on the training dataset. Then, classify the test dataset, and compute the accuracy, which you can print as an output.\n",
    "\n",
    "P.S.: We do not expect you to regularize for type 1 or type 2 errors. Your goal is to build models that classify well the diagnosis. Also, we do not expect you to spend hours on feature engineering and/or other things that may or may not improve testing accuracy. A good answer shall just contain a sensible model and the testing accuracy."
   ]
  },
  {
   "cell_type": "code",
   "execution_count": 1,
   "metadata": {},
   "outputs": [
    {
     "name": "stdout",
     "output_type": "stream",
     "text": [
      "(569, 30)\n"
     ]
    }
   ],
   "source": [
    "import numpy as np\n",
    "import pandas as pd\n",
    "\n",
    "from sklearn import datasets\n",
    "data = datasets.load_breast_cancer()\n",
    "print(np.shape(data.data))"
   ]
  },
  {
   "cell_type": "code",
   "execution_count": 2,
   "metadata": {},
   "outputs": [
    {
     "name": "stdout",
     "output_type": "stream",
     "text": [
      "Breast Cancer Wisconsin (Diagnostic) Database\n",
      "=============================================\n",
      "\n",
      "Notes\n",
      "-----\n",
      "Data Set Characteristics:\n",
      "    :Number of Instances: 569\n",
      "\n",
      "    :Number of Attributes: 30 numeric, predictive attributes and the class\n",
      "\n",
      "    :Attribute Information:\n",
      "        - radius (mean of distances from center to points on the perimeter)\n",
      "        - texture (standard deviation of gray-scale values)\n",
      "        - perimeter\n",
      "        - area\n",
      "        - smoothness (local variation in radius lengths)\n",
      "        - compactness (perimeter^2 / area - 1.0)\n",
      "        - concavity (severity of concave portions of the contour)\n",
      "        - concave points (number of concave portions of the contour)\n",
      "        - symmetry \n",
      "        - fractal dimension (\"coastline approximation\" - 1)\n",
      "\n",
      "        The mean, standard error, and \"worst\" or largest (mean of the three\n",
      "        largest values) of these features were computed for each image,\n",
      "        resulting in 30 features.  For instance, field 3 is Mean Radius, field\n",
      "        13 is Radius SE, field 23 is Worst Radius.\n",
      "\n",
      "        - class:\n",
      "                - WDBC-Malignant\n",
      "                - WDBC-Benign\n",
      "\n",
      "    :Summary Statistics:\n",
      "\n",
      "    ===================================== ====== ======\n",
      "                                           Min    Max\n",
      "    ===================================== ====== ======\n",
      "    radius (mean):                        6.981  28.11\n",
      "    texture (mean):                       9.71   39.28\n",
      "    perimeter (mean):                     43.79  188.5\n",
      "    area (mean):                          143.5  2501.0\n",
      "    smoothness (mean):                    0.053  0.163\n",
      "    compactness (mean):                   0.019  0.345\n",
      "    concavity (mean):                     0.0    0.427\n",
      "    concave points (mean):                0.0    0.201\n",
      "    symmetry (mean):                      0.106  0.304\n",
      "    fractal dimension (mean):             0.05   0.097\n",
      "    radius (standard error):              0.112  2.873\n",
      "    texture (standard error):             0.36   4.885\n",
      "    perimeter (standard error):           0.757  21.98\n",
      "    area (standard error):                6.802  542.2\n",
      "    smoothness (standard error):          0.002  0.031\n",
      "    compactness (standard error):         0.002  0.135\n",
      "    concavity (standard error):           0.0    0.396\n",
      "    concave points (standard error):      0.0    0.053\n",
      "    symmetry (standard error):            0.008  0.079\n",
      "    fractal dimension (standard error):   0.001  0.03\n",
      "    radius (worst):                       7.93   36.04\n",
      "    texture (worst):                      12.02  49.54\n",
      "    perimeter (worst):                    50.41  251.2\n",
      "    area (worst):                         185.2  4254.0\n",
      "    smoothness (worst):                   0.071  0.223\n",
      "    compactness (worst):                  0.027  1.058\n",
      "    concavity (worst):                    0.0    1.252\n",
      "    concave points (worst):               0.0    0.291\n",
      "    symmetry (worst):                     0.156  0.664\n",
      "    fractal dimension (worst):            0.055  0.208\n",
      "    ===================================== ====== ======\n",
      "\n",
      "    :Missing Attribute Values: None\n",
      "\n",
      "    :Class Distribution: 212 - Malignant, 357 - Benign\n",
      "\n",
      "    :Creator:  Dr. William H. Wolberg, W. Nick Street, Olvi L. Mangasarian\n",
      "\n",
      "    :Donor: Nick Street\n",
      "\n",
      "    :Date: November, 1995\n",
      "\n",
      "This is a copy of UCI ML Breast Cancer Wisconsin (Diagnostic) datasets.\n",
      "https://goo.gl/U2Uwz2\n",
      "\n",
      "Features are computed from a digitized image of a fine needle\n",
      "aspirate (FNA) of a breast mass.  They describe\n",
      "characteristics of the cell nuclei present in the image.\n",
      "\n",
      "Separating plane described above was obtained using\n",
      "Multisurface Method-Tree (MSM-T) [K. P. Bennett, \"Decision Tree\n",
      "Construction Via Linear Programming.\" Proceedings of the 4th\n",
      "Midwest Artificial Intelligence and Cognitive Science Society,\n",
      "pp. 97-101, 1992], a classification method which uses linear\n",
      "programming to construct a decision tree.  Relevant features\n",
      "were selected using an exhaustive search in the space of 1-4\n",
      "features and 1-3 separating planes.\n",
      "\n",
      "The actual linear program used to obtain the separating plane\n",
      "in the 3-dimensional space is that described in:\n",
      "[K. P. Bennett and O. L. Mangasarian: \"Robust Linear\n",
      "Programming Discrimination of Two Linearly Inseparable Sets\",\n",
      "Optimization Methods and Software 1, 1992, 23-34].\n",
      "\n",
      "This database is also available through the UW CS ftp server:\n",
      "\n",
      "ftp ftp.cs.wisc.edu\n",
      "cd math-prog/cpo-dataset/machine-learn/WDBC/\n",
      "\n",
      "References\n",
      "----------\n",
      "   - W.N. Street, W.H. Wolberg and O.L. Mangasarian. Nuclear feature extraction \n",
      "     for breast tumor diagnosis. IS&T/SPIE 1993 International Symposium on \n",
      "     Electronic Imaging: Science and Technology, volume 1905, pages 861-870,\n",
      "     San Jose, CA, 1993.\n",
      "   - O.L. Mangasarian, W.N. Street and W.H. Wolberg. Breast cancer diagnosis and \n",
      "     prognosis via linear programming. Operations Research, 43(4), pages 570-577, \n",
      "     July-August 1995.\n",
      "   - W.H. Wolberg, W.N. Street, and O.L. Mangasarian. Machine learning techniques\n",
      "     to diagnose breast cancer from fine-needle aspirates. Cancer Letters 77 (1994) \n",
      "     163-171.\n",
      "\n"
     ]
    }
   ],
   "source": [
    "print(data.DESCR)"
   ]
  },
  {
   "cell_type": "code",
   "execution_count": 14,
   "metadata": {},
   "outputs": [
    {
     "name": "stdout",
     "output_type": "stream",
     "text": [
      "Accuracy 96.491\n"
     ]
    }
   ],
   "source": [
    "from sklearn.linear_model import LogisticRegression\n",
    "from sklearn.model_selection import train_test_split\n",
    "from numpy import set_printoptions\n",
    "set_printoptions(precision=3)\n",
    "\n",
    "# Extracting data in array format and storing it in X\n",
    "X = data.data\n",
    "# The categories(Malignant=0,Benign=1) are stored in y\n",
    "y = data.target\n",
    "# The array is converted to a dataframe for initial examination\n",
    "df = pd.DataFrame(X,columns=data.feature_names)\n",
    "\n",
    "# The Logisitc Regression model is called\n",
    "logreg = LogisticRegression(solver=\"liblinear\")\n",
    "# The dataset is split into train and 30% test\n",
    "X_train, X_test, y_train, y_test = train_test_split(X, y,test_size=0.3, random_state=42)\n",
    "\n",
    "logreg.fit(X_train, y_train)\n",
    "y_pred = logreg.predict(X_test)\n",
    "\n",
    "# Calculating accuracy\n",
    "result = logreg.score(X_test, y_test)\n",
    "print(\"Accuracy {}\".format(round(result*100,3)))"
   ]
  },
  {
   "cell_type": "markdown",
   "metadata": {},
   "source": [
    "# Print the logit accuracy below:"
   ]
  },
  {
   "cell_type": "code",
   "execution_count": 4,
   "metadata": {},
   "outputs": [
    {
     "name": "stdout",
     "output_type": "stream",
     "text": [
      "\n",
      "testing set accuracy with logit is [96.491]\n"
     ]
    }
   ],
   "source": [
    "logitacc = \"[96.491]\"\n",
    "print(\"\\ntesting set accuracy with logit is {}\".format(logitacc))"
   ]
  },
  {
   "cell_type": "markdown",
   "metadata": {},
   "source": [
    "### 1. b) Feedforward Neural Network:\n",
    "So far, so good. Let's see how a feedforward neural network does for the same task.\n",
    "\n",
    "Take the same train/test split as in a), and construct the following neural network, which you fit to the data:"
   ]
  },
  {
   "cell_type": "code",
   "execution_count": 4,
   "metadata": {
    "jupyter": {
     "source_hidden": true
    },
    "scrolled": false
   },
   "outputs": [
    {
     "data": {
      "text/plain": [
       "['Model: \"sequential_2\"',\n",
       " '_________________________________________________________________',\n",
       " 'Layer (type)                 Output Shape              Param #   ',\n",
       " '=================================================================',\n",
       " 'dense_5 (Dense)              (None, 30)                930       ',\n",
       " '_________________________________________________________________',\n",
       " 'dense_6 (Dense)              (None, 50)                1550      ',\n",
       " '_________________________________________________________________',\n",
       " 'dense_7 (Dense)              (None, 30)                1530      ',\n",
       " '_________________________________________________________________',\n",
       " 'dense_8 (Dense)              (None, 1)                 31        ',\n",
       " '=================================================================',\n",
       " 'Total params: 4,041',\n",
       " 'Trainable params: 4,041',\n",
       " 'Non-trainable params: 0',\n",
       " '_________________________________________________________________']"
      ]
     },
     "execution_count": 4,
     "metadata": {},
     "output_type": "execute_result"
    }
   ],
   "source": [
    "import pickle\n",
    "pickle.loads(b'\\x80\\x03]q\\x00(X\\x15\\x00\\x00\\x00Model: \"sequential_2\"q\\x01XA\\x00\\x00\\x00_________________________________________________________________q\\x02XA\\x00\\x00\\x00Layer (type)                 Output Shape              Param #   q\\x03XA\\x00\\x00\\x00=================================================================q\\x04XA\\x00\\x00\\x00dense_5 (Dense)              (None, 30)                930       q\\x05XA\\x00\\x00\\x00_________________________________________________________________q\\x06XA\\x00\\x00\\x00dense_6 (Dense)              (None, 50)                1550      q\\x07XA\\x00\\x00\\x00_________________________________________________________________q\\x08XA\\x00\\x00\\x00dense_7 (Dense)              (None, 30)                1530      q\\tXA\\x00\\x00\\x00_________________________________________________________________q\\nXA\\x00\\x00\\x00dense_8 (Dense)              (None, 1)                 31        q\\x0bXA\\x00\\x00\\x00=================================================================q\\x0cX\\x13\\x00\\x00\\x00Total params: 4,041q\\rX\\x17\\x00\\x00\\x00Trainable params: 4,041q\\x0eX\\x17\\x00\\x00\\x00Non-trainable params: 0q\\x0fXA\\x00\\x00\\x00_________________________________________________________________q\\x10e.')"
   ]
  },
  {
   "cell_type": "markdown",
   "metadata": {},
   "source": [
    "### You can use the library keras to contruct the ANN. Since we are dealing with a classification problem, we recommend binary_crossentropy as a loss function.\n",
    "Choose a reasonable batch size and epoch count and train the model."
   ]
  },
  {
   "cell_type": "code",
   "execution_count": 15,
   "metadata": {},
   "outputs": [],
   "source": [
    "#Feature Scaling\n",
    "from sklearn.preprocessing import StandardScaler\n",
    "sc = StandardScaler()\n",
    "#X_train = sc.fit_transform(X_train)\n",
    "#X_test = sc.transform(X_test)\n",
    "\n",
    "from tensorflow import keras\n",
    "from tensorflow.keras import backend\n",
    "from keras.models import Sequential\n",
    "from keras.layers import Dense, Dropout"
   ]
  },
  {
   "cell_type": "code",
   "execution_count": 16,
   "metadata": {},
   "outputs": [
    {
     "name": "stdout",
     "output_type": "stream",
     "text": [
      "_________________________________________________________________\n",
      "Layer (type)                 Output Shape              Param #   \n",
      "=================================================================\n",
      "dense_5 (Dense)              (None, 30)                930       \n",
      "_________________________________________________________________\n",
      "dense_6 (Dense)              (None, 50)                1550      \n",
      "_________________________________________________________________\n",
      "dense_7 (Dense)              (None, 30)                1530      \n",
      "_________________________________________________________________\n",
      "dense_8 (Dense)              (None, 1)                 31        \n",
      "=================================================================\n",
      "Total params: 4,041\n",
      "Trainable params: 4,041\n",
      "Non-trainable params: 0\n",
      "_________________________________________________________________\n"
     ]
    },
    {
     "name": "stderr",
     "output_type": "stream",
     "text": [
      "C:\\Users\\ajnai\\Anaconda3\\envs\\newenvt\\lib\\site-packages\\ipykernel_launcher.py:2: UserWarning: Update your `Dense` call to the Keras 2 API: `Dense(30, activation=\"relu\", input_dim=30, kernel_initializer=\"uniform\")`\n",
      "  \n",
      "C:\\Users\\ajnai\\Anaconda3\\envs\\newenvt\\lib\\site-packages\\ipykernel_launcher.py:3: UserWarning: Update your `Dense` call to the Keras 2 API: `Dense(50, activation=\"relu\", kernel_initializer=\"uniform\")`\n",
      "  This is separate from the ipykernel package so we can avoid doing imports until\n",
      "C:\\Users\\ajnai\\Anaconda3\\envs\\newenvt\\lib\\site-packages\\ipykernel_launcher.py:4: UserWarning: Update your `Dense` call to the Keras 2 API: `Dense(30, activation=\"relu\", kernel_initializer=\"uniform\")`\n",
      "  after removing the cwd from sys.path.\n",
      "C:\\Users\\ajnai\\Anaconda3\\envs\\newenvt\\lib\\site-packages\\ipykernel_launcher.py:5: UserWarning: Update your `Dense` call to the Keras 2 API: `Dense(1, activation=\"sigmoid\", kernel_initializer=\"uniform\")`\n",
      "  \"\"\"\n"
     ]
    }
   ],
   "source": [
    "model = Sequential()\n",
    "model.add(Dense(30, init='uniform', input_dim=30, activation='relu'))\n",
    "model.add(Dense(50, init='uniform', activation='relu'))\n",
    "model.add(Dense(30, init='uniform', activation='relu'))\n",
    "model.add(Dense(1, init='uniform', activation='sigmoid'))\n",
    "model.summary()"
   ]
  },
  {
   "cell_type": "code",
   "execution_count": 17,
   "metadata": {},
   "outputs": [],
   "source": [
    "# Compiling the ANN\n",
    "model.compile(optimizer='adam', loss='binary_crossentropy', metrics=['accuracy'])"
   ]
  },
  {
   "cell_type": "code",
   "execution_count": 18,
   "metadata": {
    "scrolled": true
   },
   "outputs": [
    {
     "name": "stderr",
     "output_type": "stream",
     "text": [
      "C:\\Users\\ajnai\\Anaconda3\\envs\\newenvt\\lib\\site-packages\\ipykernel_launcher.py:1: UserWarning: The `nb_epoch` argument in `fit` has been renamed `epochs`.\n",
      "  \"\"\"Entry point for launching an IPython kernel.\n"
     ]
    },
    {
     "name": "stdout",
     "output_type": "stream",
     "text": [
      "Epoch 1/150\n",
      "398/398 [==============================] - 1s 2ms/step - loss: 0.6824 - acc: 0.3744\n",
      "Epoch 2/150\n",
      "398/398 [==============================] - 0s 34us/step - loss: 0.6734 - acc: 0.3744\n",
      "Epoch 3/150\n",
      "398/398 [==============================] - 0s 35us/step - loss: 0.6633 - acc: 0.3920\n",
      "Epoch 4/150\n",
      "398/398 [==============================] - 0s 40us/step - loss: 0.6461 - acc: 0.4623\n",
      "Epoch 5/150\n",
      "398/398 [==============================] - 0s 47us/step - loss: 0.6219 - acc: 0.6357\n",
      "Epoch 6/150\n",
      "398/398 [==============================] - 0s 43us/step - loss: 0.5844 - acc: 0.8769\n",
      "Epoch 7/150\n",
      "398/398 [==============================] - 0s 36us/step - loss: 0.5354 - acc: 0.8995\n",
      "Epoch 8/150\n",
      "398/398 [==============================] - 0s 38us/step - loss: 0.4794 - acc: 0.8970\n",
      "Epoch 9/150\n",
      "398/398 [==============================] - 0s 29us/step - loss: 0.4196 - acc: 0.8995\n",
      "Epoch 10/150\n",
      "398/398 [==============================] - 0s 28us/step - loss: 0.3762 - acc: 0.8920\n",
      "Epoch 11/150\n",
      "398/398 [==============================] - 0s 19us/step - loss: 0.3367 - acc: 0.8945\n",
      "Epoch 12/150\n",
      "398/398 [==============================] - 0s 28us/step - loss: 0.3099 - acc: 0.8920\n",
      "Epoch 13/150\n",
      "398/398 [==============================] - 0s 26us/step - loss: 0.2832 - acc: 0.8945\n",
      "Epoch 14/150\n",
      "398/398 [==============================] - 0s 29us/step - loss: 0.2650 - acc: 0.9070\n",
      "Epoch 15/150\n",
      "398/398 [==============================] - 0s 19us/step - loss: 0.2554 - acc: 0.9045\n",
      "Epoch 16/150\n",
      "398/398 [==============================] - 0s 22us/step - loss: 0.2603 - acc: 0.9045\n",
      "Epoch 17/150\n",
      "398/398 [==============================] - 0s 29us/step - loss: 0.2585 - acc: 0.8970\n",
      "Epoch 18/150\n",
      "398/398 [==============================] - 0s 49us/step - loss: 0.2562 - acc: 0.9070\n",
      "Epoch 19/150\n",
      "398/398 [==============================] - 0s 39us/step - loss: 0.2891 - acc: 0.8920\n",
      "Epoch 20/150\n",
      "398/398 [==============================] - 0s 41us/step - loss: 0.2885 - acc: 0.8995\n",
      "Epoch 21/150\n",
      "398/398 [==============================] - 0s 41us/step - loss: 0.2562 - acc: 0.8844\n",
      "Epoch 22/150\n",
      "398/398 [==============================] - 0s 28us/step - loss: 0.2714 - acc: 0.8819\n",
      "Epoch 23/150\n",
      "398/398 [==============================] - 0s 30us/step - loss: 0.2767 - acc: 0.8920\n",
      "Epoch 24/150\n",
      "398/398 [==============================] - 0s 32us/step - loss: 0.2748 - acc: 0.8894\n",
      "Epoch 25/150\n",
      "398/398 [==============================] - 0s 30us/step - loss: 0.2423 - acc: 0.9196\n",
      "Epoch 26/150\n",
      "398/398 [==============================] - 0s 20us/step - loss: 0.2651 - acc: 0.8894\n",
      "Epoch 27/150\n",
      "398/398 [==============================] - 0s 29us/step - loss: 0.2498 - acc: 0.9020\n",
      "Epoch 28/150\n",
      "398/398 [==============================] - 0s 28us/step - loss: 0.2579 - acc: 0.8970\n",
      "Epoch 29/150\n",
      "398/398 [==============================] - 0s 30us/step - loss: 0.2504 - acc: 0.9095\n",
      "Epoch 30/150\n",
      "398/398 [==============================] - 0s 30us/step - loss: 0.2651 - acc: 0.8970\n",
      "Epoch 31/150\n",
      "398/398 [==============================] - 0s 27us/step - loss: 0.2511 - acc: 0.8995\n",
      "Epoch 32/150\n",
      "398/398 [==============================] - 0s 22us/step - loss: 0.2514 - acc: 0.9020\n",
      "Epoch 33/150\n",
      "398/398 [==============================] - 0s 27us/step - loss: 0.2406 - acc: 0.9045\n",
      "Epoch 34/150\n",
      "398/398 [==============================] - 0s 28us/step - loss: 0.2377 - acc: 0.9020\n",
      "Epoch 35/150\n",
      "398/398 [==============================] - 0s 30us/step - loss: 0.2338 - acc: 0.9045\n",
      "Epoch 36/150\n",
      "398/398 [==============================] - 0s 30us/step - loss: 0.2346 - acc: 0.9045\n",
      "Epoch 37/150\n",
      "398/398 [==============================] - 0s 26us/step - loss: 0.2330 - acc: 0.9045\n",
      "Epoch 38/150\n",
      "398/398 [==============================] - 0s 21us/step - loss: 0.2342 - acc: 0.9095\n",
      "Epoch 39/150\n",
      "398/398 [==============================] - 0s 28us/step - loss: 0.2360 - acc: 0.9070\n",
      "Epoch 40/150\n",
      "398/398 [==============================] - 0s 32us/step - loss: 0.2376 - acc: 0.9020\n",
      "Epoch 41/150\n",
      "398/398 [==============================] - 0s 27us/step - loss: 0.2347 - acc: 0.9045\n",
      "Epoch 42/150\n",
      "398/398 [==============================] - 0s 21us/step - loss: 0.2298 - acc: 0.9045\n",
      "Epoch 43/150\n",
      "398/398 [==============================] - 0s 26us/step - loss: 0.2296 - acc: 0.9095\n",
      "Epoch 44/150\n",
      "398/398 [==============================] - 0s 34us/step - loss: 0.2319 - acc: 0.9121\n",
      "Epoch 45/150\n",
      "398/398 [==============================] - 0s 33us/step - loss: 0.2301 - acc: 0.9121\n",
      "Epoch 46/150\n",
      "398/398 [==============================] - 0s 32us/step - loss: 0.2287 - acc: 0.9045\n",
      "Epoch 47/150\n",
      "398/398 [==============================] - 0s 31us/step - loss: 0.2293 - acc: 0.9070\n",
      "Epoch 48/150\n",
      "398/398 [==============================] - 0s 29us/step - loss: 0.2256 - acc: 0.9045\n",
      "Epoch 49/150\n",
      "398/398 [==============================] - 0s 20us/step - loss: 0.2263 - acc: 0.9121\n",
      "Epoch 50/150\n",
      "398/398 [==============================] - 0s 26us/step - loss: 0.2342 - acc: 0.9045\n",
      "Epoch 51/150\n",
      "398/398 [==============================] - 0s 22us/step - loss: 0.2230 - acc: 0.9095\n",
      "Epoch 52/150\n",
      "398/398 [==============================] - 0s 25us/step - loss: 0.2397 - acc: 0.9045\n",
      "Epoch 53/150\n",
      "398/398 [==============================] - 0s 31us/step - loss: 0.2512 - acc: 0.8920\n",
      "Epoch 54/150\n",
      "398/398 [==============================] - 0s 34us/step - loss: 0.2273 - acc: 0.9095\n",
      "Epoch 55/150\n",
      "398/398 [==============================] - 0s 34us/step - loss: 0.2261 - acc: 0.9070\n",
      "Epoch 56/150\n",
      "398/398 [==============================] - 0s 36us/step - loss: 0.2217 - acc: 0.9045\n",
      "Epoch 57/150\n",
      "398/398 [==============================] - 0s 31us/step - loss: 0.2201 - acc: 0.9070\n",
      "Epoch 58/150\n",
      "398/398 [==============================] - 0s 37us/step - loss: 0.2191 - acc: 0.9070\n",
      "Epoch 59/150\n",
      "398/398 [==============================] - 0s 31us/step - loss: 0.2220 - acc: 0.9070\n",
      "Epoch 60/150\n",
      "398/398 [==============================] - 0s 25us/step - loss: 0.2317 - acc: 0.9196\n",
      "Epoch 61/150\n",
      "398/398 [==============================] - 0s 25us/step - loss: 0.2412 - acc: 0.9045\n",
      "Epoch 62/150\n",
      "398/398 [==============================] - 0s 25us/step - loss: 0.2194 - acc: 0.9146\n",
      "Epoch 63/150\n",
      "398/398 [==============================] - 0s 28us/step - loss: 0.2341 - acc: 0.9095\n",
      "Epoch 64/150\n",
      "398/398 [==============================] - 0s 34us/step - loss: 0.2180 - acc: 0.9121\n",
      "Epoch 65/150\n",
      "398/398 [==============================] - 0s 33us/step - loss: 0.2226 - acc: 0.9095\n",
      "Epoch 66/150\n",
      "398/398 [==============================] - 0s 34us/step - loss: 0.2150 - acc: 0.9095\n",
      "Epoch 67/150\n",
      "398/398 [==============================] - 0s 38us/step - loss: 0.2214 - acc: 0.9095\n",
      "Epoch 68/150\n",
      "398/398 [==============================] - 0s 19us/step - loss: 0.2152 - acc: 0.9095\n",
      "Epoch 69/150\n",
      "398/398 [==============================] - 0s 23us/step - loss: 0.2189 - acc: 0.9121\n",
      "Epoch 70/150\n",
      "398/398 [==============================] - 0s 42us/step - loss: 0.2158 - acc: 0.9070\n",
      "Epoch 71/150\n",
      "398/398 [==============================] - 0s 42us/step - loss: 0.2162 - acc: 0.9070\n",
      "Epoch 72/150\n",
      "398/398 [==============================] - 0s 36us/step - loss: 0.2292 - acc: 0.9070\n",
      "Epoch 73/150\n",
      "398/398 [==============================] - 0s 22us/step - loss: 0.2263 - acc: 0.9121\n",
      "Epoch 74/150\n",
      "398/398 [==============================] - 0s 21us/step - loss: 0.2166 - acc: 0.9095\n",
      "Epoch 75/150\n",
      "398/398 [==============================] - 0s 36us/step - loss: 0.2145 - acc: 0.9121\n",
      "Epoch 76/150\n",
      "398/398 [==============================] - 0s 34us/step - loss: 0.2123 - acc: 0.9045\n",
      "Epoch 77/150\n",
      "398/398 [==============================] - 0s 43us/step - loss: 0.2206 - acc: 0.9146\n",
      "Epoch 78/150\n",
      "398/398 [==============================] - 0s 33us/step - loss: 0.2079 - acc: 0.9171\n",
      "Epoch 79/150\n",
      "398/398 [==============================] - 0s 29us/step - loss: 0.2095 - acc: 0.9146\n",
      "Epoch 80/150\n",
      "398/398 [==============================] - 0s 38us/step - loss: 0.2125 - acc: 0.9146\n",
      "Epoch 81/150\n",
      "398/398 [==============================] - 0s 33us/step - loss: 0.2077 - acc: 0.9095\n",
      "Epoch 82/150\n",
      "398/398 [==============================] - 0s 24us/step - loss: 0.2073 - acc: 0.9095\n",
      "Epoch 83/150\n",
      "398/398 [==============================] - 0s 30us/step - loss: 0.2087 - acc: 0.9146\n",
      "Epoch 84/150\n"
     ]
    },
    {
     "name": "stdout",
     "output_type": "stream",
     "text": [
      "398/398 [==============================] - 0s 24us/step - loss: 0.2086 - acc: 0.9171\n",
      "Epoch 85/150\n",
      "398/398 [==============================] - 0s 18us/step - loss: 0.2194 - acc: 0.9045\n",
      "Epoch 86/150\n",
      "398/398 [==============================] - 0s 27us/step - loss: 0.2144 - acc: 0.9121\n",
      "Epoch 87/150\n",
      "398/398 [==============================] - 0s 25us/step - loss: 0.2115 - acc: 0.9196\n",
      "Epoch 88/150\n",
      "398/398 [==============================] - 0s 28us/step - loss: 0.2060 - acc: 0.9171\n",
      "Epoch 89/150\n",
      "398/398 [==============================] - 0s 25us/step - loss: 0.2027 - acc: 0.9146\n",
      "Epoch 90/150\n",
      "398/398 [==============================] - 0s 26us/step - loss: 0.2030 - acc: 0.9146\n",
      "Epoch 91/150\n",
      "398/398 [==============================] - 0s 22us/step - loss: 0.2065 - acc: 0.9196\n",
      "Epoch 92/150\n",
      "398/398 [==============================] - 0s 23us/step - loss: 0.2046 - acc: 0.9171\n",
      "Epoch 93/150\n",
      "398/398 [==============================] - 0s 31us/step - loss: 0.2003 - acc: 0.9146\n",
      "Epoch 94/150\n",
      "398/398 [==============================] - 0s 38us/step - loss: 0.2008 - acc: 0.9171\n",
      "Epoch 95/150\n",
      "398/398 [==============================] - 0s 38us/step - loss: 0.1981 - acc: 0.9121\n",
      "Epoch 96/150\n",
      "398/398 [==============================] - 0s 32us/step - loss: 0.2118 - acc: 0.9196\n",
      "Epoch 97/150\n",
      "398/398 [==============================] - 0s 44us/step - loss: 0.2189 - acc: 0.9146\n",
      "Epoch 98/150\n",
      "398/398 [==============================] - 0s 41us/step - loss: 0.2306 - acc: 0.9095\n",
      "Epoch 99/150\n",
      "398/398 [==============================] - 0s 45us/step - loss: 0.2109 - acc: 0.9095\n",
      "Epoch 100/150\n",
      "398/398 [==============================] - 0s 40us/step - loss: 0.2000 - acc: 0.9221\n",
      "Epoch 101/150\n",
      "398/398 [==============================] - 0s 27us/step - loss: 0.1949 - acc: 0.9196\n",
      "Epoch 102/150\n",
      "398/398 [==============================] - 0s 30us/step - loss: 0.2125 - acc: 0.9146\n",
      "Epoch 103/150\n",
      "398/398 [==============================] - 0s 23us/step - loss: 0.2000 - acc: 0.9196\n",
      "Epoch 104/150\n",
      "398/398 [==============================] - 0s 29us/step - loss: 0.2003 - acc: 0.9146\n",
      "Epoch 105/150\n",
      "398/398 [==============================] - 0s 28us/step - loss: 0.1973 - acc: 0.9171\n",
      "Epoch 106/150\n",
      "398/398 [==============================] - 0s 32us/step - loss: 0.2120 - acc: 0.9121\n",
      "Epoch 107/150\n",
      "398/398 [==============================] - 0s 32us/step - loss: 0.2059 - acc: 0.9070\n",
      "Epoch 108/150\n",
      "398/398 [==============================] - 0s 32us/step - loss: 0.1993 - acc: 0.9146\n",
      "Epoch 109/150\n",
      "398/398 [==============================] - 0s 27us/step - loss: 0.1964 - acc: 0.9221\n",
      "Epoch 110/150\n",
      "398/398 [==============================] - 0s 25us/step - loss: 0.2096 - acc: 0.9171\n",
      "Epoch 111/150\n",
      "398/398 [==============================] - 0s 28us/step - loss: 0.2236 - acc: 0.9171\n",
      "Epoch 112/150\n",
      "398/398 [==============================] - 0s 28us/step - loss: 0.2192 - acc: 0.9196\n",
      "Epoch 113/150\n",
      "398/398 [==============================] - 0s 38us/step - loss: 0.2023 - acc: 0.9121\n",
      "Epoch 114/150\n",
      "398/398 [==============================] - 0s 37us/step - loss: 0.1931 - acc: 0.9196\n",
      "Epoch 115/150\n",
      "398/398 [==============================] - 0s 30us/step - loss: 0.1932 - acc: 0.9196\n",
      "Epoch 116/150\n",
      "398/398 [==============================] - 0s 40us/step - loss: 0.1999 - acc: 0.9196\n",
      "Epoch 117/150\n",
      "398/398 [==============================] - 0s 46us/step - loss: 0.1957 - acc: 0.9171\n",
      "Epoch 118/150\n",
      "398/398 [==============================] - 0s 26us/step - loss: 0.1909 - acc: 0.9196\n",
      "Epoch 119/150\n",
      "398/398 [==============================] - 0s 18us/step - loss: 0.1883 - acc: 0.9146\n",
      "Epoch 120/150\n",
      "398/398 [==============================] - 0s 35us/step - loss: 0.1881 - acc: 0.9171\n",
      "Epoch 121/150\n",
      "398/398 [==============================] - 0s 25us/step - loss: 0.1913 - acc: 0.9221\n",
      "Epoch 122/150\n",
      "398/398 [==============================] - 0s 22us/step - loss: 0.2068 - acc: 0.9221\n",
      "Epoch 123/150\n",
      "398/398 [==============================] - 0s 18us/step - loss: 0.2060 - acc: 0.9146\n",
      "Epoch 124/150\n",
      "398/398 [==============================] - 0s 27us/step - loss: 0.2062 - acc: 0.9171\n",
      "Epoch 125/150\n",
      "398/398 [==============================] - 0s 18us/step - loss: 0.2205 - acc: 0.9146\n",
      "Epoch 126/150\n",
      "398/398 [==============================] - 0s 26us/step - loss: 0.1924 - acc: 0.9171\n",
      "Epoch 127/150\n",
      "398/398 [==============================] - 0s 16us/step - loss: 0.1838 - acc: 0.9221\n",
      "Epoch 128/150\n",
      "398/398 [==============================] - 0s 30us/step - loss: 0.1920 - acc: 0.9146\n",
      "Epoch 129/150\n",
      "398/398 [==============================] - 0s 27us/step - loss: 0.1808 - acc: 0.9271\n",
      "Epoch 130/150\n",
      "398/398 [==============================] - 0s 37us/step - loss: 0.1894 - acc: 0.9146\n",
      "Epoch 131/150\n",
      "398/398 [==============================] - 0s 29us/step - loss: 0.1836 - acc: 0.9246\n",
      "Epoch 132/150\n",
      "398/398 [==============================] - 0s 25us/step - loss: 0.1862 - acc: 0.9221\n",
      "Epoch 133/150\n",
      "398/398 [==============================] - 0s 31us/step - loss: 0.1992 - acc: 0.9146\n",
      "Epoch 134/150\n",
      "398/398 [==============================] - 0s 30us/step - loss: 0.1870 - acc: 0.9322\n",
      "Epoch 135/150\n",
      "398/398 [==============================] - 0s 32us/step - loss: 0.1861 - acc: 0.9196\n",
      "Epoch 136/150\n",
      "398/398 [==============================] - 0s 36us/step - loss: 0.1824 - acc: 0.9246\n",
      "Epoch 137/150\n",
      "398/398 [==============================] - 0s 39us/step - loss: 0.1824 - acc: 0.9221\n",
      "Epoch 138/150\n",
      "398/398 [==============================] - 0s 32us/step - loss: 0.1923 - acc: 0.9171\n",
      "Epoch 139/150\n",
      "398/398 [==============================] - 0s 34us/step - loss: 0.1977 - acc: 0.9221\n",
      "Epoch 140/150\n",
      "398/398 [==============================] - 0s 36us/step - loss: 0.1920 - acc: 0.9171\n",
      "Epoch 141/150\n",
      "398/398 [==============================] - 0s 28us/step - loss: 0.1851 - acc: 0.9171\n",
      "Epoch 142/150\n",
      "398/398 [==============================] - 0s 25us/step - loss: 0.1795 - acc: 0.9196\n",
      "Epoch 143/150\n",
      "398/398 [==============================] - 0s 33us/step - loss: 0.1785 - acc: 0.9271\n",
      "Epoch 144/150\n",
      "398/398 [==============================] - 0s 20us/step - loss: 0.1788 - acc: 0.9196\n",
      "Epoch 145/150\n",
      "398/398 [==============================] - 0s 34us/step - loss: 0.1766 - acc: 0.9271\n",
      "Epoch 146/150\n",
      "398/398 [==============================] - 0s 28us/step - loss: 0.1780 - acc: 0.9221\n",
      "Epoch 147/150\n",
      "398/398 [==============================] - 0s 39us/step - loss: 0.1808 - acc: 0.9246\n",
      "Epoch 148/150\n",
      "398/398 [==============================] - 0s 34us/step - loss: 0.1808 - acc: 0.9171\n",
      "Epoch 149/150\n",
      "398/398 [==============================] - 0s 21us/step - loss: 0.1754 - acc: 0.9271\n",
      "Epoch 150/150\n",
      "398/398 [==============================] - 0s 25us/step - loss: 0.1915 - acc: 0.9196\n"
     ]
    },
    {
     "data": {
      "text/plain": [
       "<keras.callbacks.History at 0x12c8e4cef60>"
      ]
     },
     "execution_count": 18,
     "metadata": {},
     "output_type": "execute_result"
    }
   ],
   "source": [
    "model.fit(X_train, y_train, batch_size=100, nb_epoch=150)"
   ]
  },
  {
   "cell_type": "code",
   "execution_count": 19,
   "metadata": {},
   "outputs": [],
   "source": [
    "# Predicting the Test set results\n",
    "y_pred = model.predict(X_test)\n",
    "y_pred = (y_pred > 0.5)"
   ]
  },
  {
   "cell_type": "code",
   "execution_count": 20,
   "metadata": {},
   "outputs": [],
   "source": [
    "# Making the Confusion Matrix\n",
    "from sklearn.metrics import confusion_matrix\n",
    "cm = confusion_matrix(y_test, y_pred)"
   ]
  },
  {
   "cell_type": "code",
   "execution_count": 21,
   "metadata": {},
   "outputs": [
    {
     "name": "stdout",
     "output_type": "stream",
     "text": [
      "Accuracy 97.661\n"
     ]
    }
   ],
   "source": [
    "print(\"Accuracy {}\".format(round(((cm[0][0] + cm[1][1])/171)*100,3)))"
   ]
  },
  {
   "cell_type": "markdown",
   "metadata": {},
   "source": [
    "### Here again, print the testing dataset accuracy:"
   ]
  },
  {
   "cell_type": "code",
   "execution_count": 22,
   "metadata": {},
   "outputs": [
    {
     "name": "stdout",
     "output_type": "stream",
     "text": [
      "\n",
      "testing set accuracy with logit is [97.661]\n"
     ]
    }
   ],
   "source": [
    "ANNacc = \"[97.661]\"\n",
    "print(\"\\ntesting set accuracy with logit is {}\".format(ANNacc))"
   ]
  },
  {
   "cell_type": "markdown",
   "metadata": {},
   "source": [
    "### 1. c) Compare the performance of the neural net with the logit. Which one seems better at the job and why might that be?\n",
    "Please also comment on which model you would choose to implement in a case like this and why."
   ]
  },
  {
   "cell_type": "markdown",
   "metadata": {},
   "source": [
    "#### Accuracy Obtained from logistic regression: 96.491\n",
    "#### Accuracy Obtained from Artifical neural net: 97.661\n",
    "\n",
    "#### This shows that the Artificial neural net does a better job at classifying unknown data into malignant/benign types\n",
    "\n",
    "#### Also, it can be noted that when the data is standardized using StandardScaler, the accuracy is found to be equal. The result of logistic regression equals the output of ANN ~ 98.246\n",
    "\n",
    "#### In a situation like this, I would choose to implement the ANN, because the predictive power is found to be slightly higher than the logit model\n",
    "\n"
   ]
  },
  {
   "cell_type": "markdown",
   "metadata": {},
   "source": [
    "# Question 2:\n",
    "### Your coding skills have gained you a job as an options trader at a successful hedge fund! Congratulations!!\n",
    "\n",
    "At the first day, your boss comes to you and asks you, whether he should buy a _call option_* with a certain set of characteristics for 1€.\n",
    "\n",
    "    *A call option gives you the right (but not obligation) to buy a share for a certain strike price. In other words, if the stock price is higher than the strike price, you get the difference, otherwise, you get 0: \n",
    "    \n",
    "    callpayoff = max(stockprice - strikeprice, 0) \n",
    "\n",
    "To price the option, you shall build a monte-carlo simulator which generatates _1 000 000_ random walks, each representing the stock price in one year, which is when the option can be expired. By taking the average of these payouts, you will get the expected payout at expiry!\n",
    "\n",
    "Luckily, your boss has also given you the characteristics and hints for how the stock price moves: \n",
    "\n",
    "The stock price follows a student T distribution with 3 degrees of freedom (the rvs function within the t class from scipy.stats package is a great tool for creating random walks with this distribution: https://docs.scipy.org/doc/scipy/reference/generated/scipy.stats.t.html  ctrl+f \"rvs\") \n",
    "\n",
    "- The stock price today: 69\n",
    "- Stock returns follow student T distribution with 3 degrees of freedom\n",
    "- drift of 10% per year \n",
    "- volatility of 20%\n",
    "- strike price of the option is 96\n",
    "\n",
    "### Build a function that returns the price of the call option, and shows your boss what payout he can expect from the option in order to explain him, whether he should buy it or not.\n",
    "\n",
    "    P.S.: If you run into trouble on your way, you can always ask for tips from your boss and since he is a nice guy, he will also give a good grade for all attempts!"
   ]
  },
  {
   "cell_type": "code",
   "execution_count": 23,
   "metadata": {},
   "outputs": [
    {
     "name": "stdout",
     "output_type": "stream",
     "text": [
      "0.956\n"
     ]
    }
   ],
   "source": [
    "import numpy as np\n",
    "import matplotlib.pyplot as plt\n",
    "\n",
    "class Configuration:\n",
    "     def __init__(self, NumberOfScenarios, NumberOfTimesteps):\n",
    "         self.NumberOfScenarios=NumberOfScenarios \n",
    "         self.NumberOfTimesteps = NumberOfTimesteps\n",
    "\n",
    "class OptionTrade:\n",
    "  def __init__(self, stock_price, strike_price, risk_free_rate,    volatility, time_to_maturity):\n",
    "        self.stock_price=stock_price\n",
    "        self.strike_price=strike_price\n",
    "        self.risk_free_rate=risk_free_rate\n",
    "        self.volatility=volatility\n",
    "        self.time_to_maturity = time_to_maturity\n",
    "\n",
    "class GBMModel:\n",
    "    def __init__(self, Configuration):\n",
    "        self.Configuration = Configuration\n",
    "        \n",
    "    #simulate risk factors using GBM stochastic differential equation\n",
    "    def SimulateRiskFactor(self, trade):\n",
    "        prices = []\n",
    "        # for this example, we only are concerned with one time step as it’s an European option\n",
    "        timestep = 1\n",
    "        for scenarioNumber in range(self.Configuration.NumberOfScenarios):\n",
    "            normal_random_number = np.random.normal(0, 1)           \n",
    "            drift = (trade.risk_free_rate-0.5*(trade.volatility**2)) *timestep\n",
    "            uncertainty =trade.volatility*np.sqrt(timestep)*normal_random_number\n",
    "            price = trade.stock_price * np.exp(drift+uncertainty)\n",
    "            prices.append(price)    \n",
    "        return prices\n",
    "\n",
    "class OptionTradePayoffPricer:\n",
    "    def CalculatePrice(self, trade, prices_per_scenario):\n",
    "        pay_offs = 0\n",
    "        total_scenarios = len(prices_per_scenario)\n",
    "        for i in range(total_scenarios):\n",
    "            price = prices_per_scenario[i]\n",
    "            pay_off = price - trade.strike_price\n",
    "            if(pay_off>0): \n",
    "                pay_offs=pay_offs+pay_off\n",
    "        \n",
    "        discounted_price = (np.exp(-1.0*trade.risk_free_rate * trade.time_to_maturity)*pay_offs)\n",
    "        result = discounted_price/total_scenarios\n",
    "        return result\n",
    "\n",
    "class MonteCarloEngineSimulator:\n",
    "    \n",
    "    #instationate with configuration and the model\n",
    "    def __init__(self, configuration, model):\n",
    "        self.configuration = configuration\n",
    "        self.model = model\n",
    "        \n",
    "    #simulate trade and calculate price    \n",
    "    def Simulate(self, trade, tradePricer):\n",
    "        prices_per_scenario = self.model.SimulateRiskFactor(trade)\n",
    "        price = tradePricer.CalculatePrice(trade, prices_per_scenario)\n",
    "        \n",
    "        return price\n",
    "\n",
    "def Main():\n",
    "    #prepare the data\n",
    "    configuration = Configuration(1000000, 1) # config\n",
    "    trade = OptionTrade(69, 96, 0.1, 0.2,1) # trade\n",
    "    model = GBMModel(configuration)\n",
    "    tradePricer = OptionTradePayoffPricer()\n",
    "    simulator = MonteCarloEngineSimulator(configuration, model)\n",
    "    \n",
    "    #simulate price\n",
    "    price = simulator.Simulate(trade, tradePricer)\n",
    "    print(round(price,3))\n",
    "\n",
    "Main()"
   ]
  },
  {
   "cell_type": "code",
   "execution_count": 24,
   "metadata": {},
   "outputs": [
    {
     "data": {
      "text/plain": [
       "0.956"
      ]
     },
     "execution_count": 24,
     "metadata": {},
     "output_type": "execute_result"
    }
   ],
   "source": [
    "#This can also be calculated using Black-Scholes formula\n",
    "import numpy as np\n",
    "import scipy.stats as si\n",
    "\n",
    "def call_price(S, K, T, r, sigma):\n",
    "    \n",
    "    #S: spot price\n",
    "    #K: strike price\n",
    "    #T: time to maturity\n",
    "    #r: interest rate\n",
    "    #sigma: volatility of underlying asset\n",
    "    \n",
    "    d1 = (np.log(S / K) + (r + 0.5 * sigma ** 2) * T) / (sigma * np.sqrt(T))\n",
    "    d2 = (np.log(S / K) + (r - 0.5 * sigma ** 2) * T) / (sigma * np.sqrt(T))\n",
    "    \n",
    "    call = (S * si.norm.cdf(d1, 0.0, 1.0) - K * np.exp(-r * T) * si.norm.cdf(d2, 0.0, 1.0))\n",
    "    \n",
    "    return round(call,3)\n",
    "\n",
    "call_price(69,96,1,0.1,0.2)"
   ]
  },
  {
   "cell_type": "markdown",
   "metadata": {},
   "source": [
    "#### As the results show, the value of the call option is 0.95 which means the investment is not going to generate a great deal of value that the boss would've expected. The payoff is greater than 0 but not huge. Therefore, I suggest not to proceed with the deal. The call price is 95 cents which means spending 1 euro per share is not a good idea."
   ]
  },
  {
   "cell_type": "markdown",
   "metadata": {},
   "source": [
    "# Good luck!\n",
    "\n",
    "Don't forget: google, github and stack overflow are your best friends!\n"
   ]
  },
  {
   "cell_type": "code",
   "execution_count": null,
   "metadata": {},
   "outputs": [],
   "source": []
  }
 ],
 "metadata": {
  "kernelspec": {
   "display_name": "Python 3",
   "language": "python",
   "name": "python3"
  },
  "language_info": {
   "codemirror_mode": {
    "name": "ipython",
    "version": 3
   },
   "file_extension": ".py",
   "mimetype": "text/x-python",
   "name": "python",
   "nbconvert_exporter": "python",
   "pygments_lexer": "ipython3",
   "version": "3.5.5"
  }
 },
 "nbformat": 4,
 "nbformat_minor": 4
}
